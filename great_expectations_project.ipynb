{
 "cells": [
  {
   "cell_type": "code",
   "execution_count": 1,
   "id": "dbda539c-3a14-4a2d-84c9-e923c9f490f9",
   "metadata": {},
   "outputs": [],
   "source": [
    "import great_expectations as gx"
   ]
  },
  {
   "cell_type": "code",
   "execution_count": 124,
   "id": "ff4903c7-84b5-48cc-b1ed-d16d4725eee3",
   "metadata": {},
   "outputs": [],
   "source": [
    "import pandas as pd"
   ]
  },
  {
   "cell_type": "code",
   "execution_count": 3,
   "id": "3c40bbe4-8544-48dc-80cb-ffff72247585",
   "metadata": {},
   "outputs": [],
   "source": [
    "context = gx.get_context() #configure the context"
   ]
  },
  {
   "cell_type": "code",
   "execution_count": 10,
   "id": "06d3fb86-bf47-46e0-9daa-d509b21d755b",
   "metadata": {},
   "outputs": [],
   "source": [
    "source_folder = \"Downloads/archive\"\n",
    "data_source_name = \"my_filesystem_data_source1\"  #define the datasource's parameters"
   ]
  },
  {
   "cell_type": "code",
   "execution_count": 11,
   "id": "cea0f24f-33b3-4057-8976-53ff9002d300",
   "metadata": {},
   "outputs": [],
   "source": [
    "data_source = context.data_sources.add_pandas_filesystem(\n",
    "    name=data_source_name, base_directory=source_folder\n",
    ") #add the filesystem datasource to the data context"
   ]
  },
  {
   "cell_type": "code",
   "execution_count": 23,
   "id": "eef6ab16-8e09-4989-8973-fa52b9a8d340",
   "metadata": {},
   "outputs": [],
   "source": [
    "asset_name = \"air_passengers_csv_file\" #create a data asset"
   ]
  },
  {
   "cell_type": "code",
   "execution_count": 24,
   "id": "8ae84263-689f-4191-af17-f56a824f92fb",
   "metadata": {},
   "outputs": [],
   "source": [
    "file_csv_asset = data_source.add_csv_asset(name=asset_name) #add the data asset to the data source"
   ]
  },
  {
   "cell_type": "code",
   "execution_count": 26,
   "id": "bb9f2970-455f-4639-96c2-400409ae74e3",
   "metadata": {},
   "outputs": [],
   "source": [
    "file_data_asset = context.data_sources.get(data_source_name).get_asset(asset_name) #retrieve the data asset"
   ]
  },
  {
   "cell_type": "code",
   "execution_count": 77,
   "id": "d1da16e3-fa20-4ad9-b793-c97b35f653b7",
   "metadata": {},
   "outputs": [],
   "source": [
    "file_path = \"Downloads/archive/AirPassengers.csv\" #define the path to the datafile"
   ]
  },
  {
   "cell_type": "code",
   "execution_count": 78,
   "id": "8f754156-03e9-4a46-9273-f63ebf71893b",
   "metadata": {},
   "outputs": [],
   "source": [
    "sample_batch = context.data_sources.pandas_default.read_csv(file_path) #retrieve a batch of data from the data source"
   ]
  },
  {
   "cell_type": "code",
   "execution_count": 131,
   "id": "84ba3cc9-b2c7-49a9-b01b-f71272c5f1b4",
   "metadata": {},
   "outputs": [
    {
     "data": {
      "application/vnd.jupyter.widget-view+json": {
       "model_id": "e1291ab97f0247cb8d01e7b24e7718a6",
       "version_major": 2,
       "version_minor": 0
      },
      "text/plain": [
       "Calculating Metrics:   0%|          | 0/1 [00:00<?, ?it/s]"
      ]
     },
     "metadata": {},
     "output_type": "display_data"
    },
    {
     "data": {
      "text/plain": [
       "     Month  #Passengers\n",
       "0  1949-01          112\n",
       "1  1949-02          118\n",
       "2  1949-03          132\n",
       "3  1949-04          129\n",
       "4  1949-05          121"
      ]
     },
     "execution_count": 131,
     "metadata": {},
     "output_type": "execute_result"
    }
   ],
   "source": [
    "sample_batch.head() #verify the returned batch"
   ]
  },
  {
   "cell_type": "code",
   "execution_count": 86,
   "id": "1d51828a-b784-4005-bc93-03e7fbe3bb67",
   "metadata": {},
   "outputs": [],
   "source": [
    "suite_name = \"my_expectation_suite\"\n",
    "suite = gx.ExpectationSuite(name=suite_name) #create an expectatio suite"
   ]
  },
  {
   "cell_type": "code",
   "execution_count": 87,
   "id": "33e96231-acc7-44b8-bbe3-a80b0630d548",
   "metadata": {},
   "outputs": [],
   "source": [
    "suite = context.suites.add(suite) #add the suite to the context"
   ]
  },
  {
   "cell_type": "code",
   "execution_count": 176,
   "id": "d6c1ef3d-1e1f-40d0-bf13-0f613baf8250",
   "metadata": {},
   "outputs": [],
   "source": [
    "validation_results = [] #create a list to contain the validation results"
   ]
  },
  {
   "cell_type": "code",
   "execution_count": 177,
   "id": "8b4ce0aa-4ff2-4c88-bfba-1f3bd756a5fd",
   "metadata": {},
   "outputs": [],
   "source": [
    "expectation = gx.expectations.ExpectColumnMaxToBeBetween(\n",
    "    column=\"#Passengers\", min_value=1, max_value=400\n",
    ") #run the first expectation"
   ]
  },
  {
   "cell_type": "code",
   "execution_count": 178,
   "id": "3622abf3-dbaa-4d84-b968-62f1632e03c3",
   "metadata": {},
   "outputs": [
    {
     "data": {
      "application/vnd.jupyter.widget-view+json": {
       "model_id": "57fdc4512d9c49c4b306c445387ad8b4",
       "version_major": 2,
       "version_minor": 0
      },
      "text/plain": [
       "Calculating Metrics:   0%|          | 0/4 [00:00<?, ?it/s]"
      ]
     },
     "metadata": {},
     "output_type": "display_data"
    }
   ],
   "source": [
    "validation_result = sample_batch.validate(expectation) #validate the expectation against the batch retrieved using pandas"
   ]
  },
  {
   "cell_type": "code",
   "execution_count": 88,
   "id": "08ec6931-1cf3-4b2f-8a48-0fef2623537a",
   "metadata": {},
   "outputs": [
    {
     "data": {
      "text/plain": [
       "ExpectColumnMaxToBeBetween(id='6e28cf1e-3b66-4b34-b7f1-7d4a766338ee', meta=None, notes=None, result_format=<ResultFormat.BASIC: 'BASIC'>, description=None, catch_exceptions=False, rendered_content=None, windows=None, batch_id=None, column='#Passengers', row_condition=None, condition_parser=None, min_value=1.0, max_value=400.0, strict_min=False, strict_max=False)"
      ]
     },
     "execution_count": 88,
     "metadata": {},
     "output_type": "execute_result"
    }
   ],
   "source": [
    "suite.add_expectation(expectation) #add the expectation tu the suite"
   ]
  },
  {
   "cell_type": "code",
   "execution_count": 179,
   "id": "41818bc8-46b4-47e0-90e4-518b2705ca08",
   "metadata": {},
   "outputs": [],
   "source": [
    "validation_results.append(validation_result) #add the validation result to the list of results"
   ]
  },
  {
   "cell_type": "code",
   "execution_count": 180,
   "id": "fd790466-46d8-4fc7-9034-d3e341f7992d",
   "metadata": {},
   "outputs": [
    {
     "data": {
      "application/vnd.jupyter.widget-view+json": {
       "model_id": "adaba7e7cf96451b97947b3266afe486",
       "version_major": 2,
       "version_minor": 0
      },
      "text/plain": [
       "Calculating Metrics:   0%|          | 0/4 [00:00<?, ?it/s]"
      ]
     },
     "metadata": {},
     "output_type": "display_data"
    }
   ],
   "source": [
    "expectation2 = gx.expectations.ExpectColumnSumToBeBetween(\n",
    "    column=\"#Passengers\",\n",
    "    min_value=40000,\n",
    "    max_value=40400\n",
    ")\n",
    "validation_result = sample_batch.validate(expectation2)"
   ]
  },
  {
   "cell_type": "code",
   "execution_count": 96,
   "id": "f48e4f3c-0b7c-4a5a-bd4a-e1452f990dd4",
   "metadata": {},
   "outputs": [
    {
     "data": {
      "text/plain": [
       "ExpectColumnSumToBeBetween(id='5aa2268a-06f7-4dac-ba8b-99bc4d8035a3', meta=None, notes=None, result_format=<ResultFormat.BASIC: 'BASIC'>, description=None, catch_exceptions=False, rendered_content=None, windows=None, batch_id=None, column='#Passengers', row_condition=None, condition_parser=None, min_value=40000.0, max_value=40400.0, strict_min=False, strict_max=False)"
      ]
     },
     "execution_count": 96,
     "metadata": {},
     "output_type": "execute_result"
    }
   ],
   "source": [
    "suite.add_expectation(expectation2)"
   ]
  },
  {
   "cell_type": "code",
   "execution_count": 181,
   "id": "ea59d0d4-3435-4a18-ae42-d81e2e15fb82",
   "metadata": {},
   "outputs": [],
   "source": [
    "validation_results.append(validation_result)"
   ]
  },
  {
   "cell_type": "code",
   "execution_count": 182,
   "id": "4cbd2654-fb68-4650-a385-339a0fb3f36f",
   "metadata": {},
   "outputs": [
    {
     "data": {
      "application/vnd.jupyter.widget-view+json": {
       "model_id": "e90958773d09491da9454168b3ca29ed",
       "version_major": 2,
       "version_minor": 0
      },
      "text/plain": [
       "Calculating Metrics:   0%|          | 0/2 [00:00<?, ?it/s]"
      ]
     },
     "metadata": {},
     "output_type": "display_data"
    }
   ],
   "source": [
    "expectation3=gx.expectations.ExpectColumnToExist(\n",
    "    column=\"Month\",\n",
    "    column_index=0\n",
    ")\n",
    "validation_result = sample_batch.validate(expectation3)"
   ]
  },
  {
   "cell_type": "code",
   "execution_count": 98,
   "id": "3330b8c7-d1ca-4ae4-bba0-4bad77a5615d",
   "metadata": {},
   "outputs": [
    {
     "data": {
      "text/plain": [
       "ExpectColumnToExist(id='4f08f981-a648-4baa-917b-cf04861d0ca9', meta=None, notes=None, result_format=<ResultFormat.BASIC: 'BASIC'>, description=None, catch_exceptions=False, rendered_content=None, windows=None, batch_id=None, column='Month', column_index=0)"
      ]
     },
     "execution_count": 98,
     "metadata": {},
     "output_type": "execute_result"
    }
   ],
   "source": [
    "suite.add_expectation(expectation3)"
   ]
  },
  {
   "cell_type": "code",
   "execution_count": 183,
   "id": "c134d53f-425e-4164-b744-f24d89439b28",
   "metadata": {},
   "outputs": [],
   "source": [
    "validation_results.append(validation_result)"
   ]
  },
  {
   "cell_type": "code",
   "execution_count": 184,
   "id": "ac808243-2fdc-4457-a3cf-9b372c0556c7",
   "metadata": {},
   "outputs": [
    {
     "data": {
      "application/vnd.jupyter.widget-view+json": {
       "model_id": "de621d19fa294adaac7324d1af06d66e",
       "version_major": 2,
       "version_minor": 0
      },
      "text/plain": [
       "Calculating Metrics:   0%|          | 0/10 [00:00<?, ?it/s]"
      ]
     },
     "metadata": {},
     "output_type": "display_data"
    }
   ],
   "source": [
    "expectation4=gx.expectations.ExpectColumnValuesToBeUnique(\n",
    "    column=\"Month\"\n",
    ")\n",
    "validation_result = sample_batch.validate(expectation4)"
   ]
  },
  {
   "cell_type": "code",
   "execution_count": 102,
   "id": "bf278046-ee13-4da2-b3bd-35d6d945b9cd",
   "metadata": {},
   "outputs": [
    {
     "data": {
      "text/plain": [
       "ExpectColumnValuesToBeUnique(id='a22a6705-5e4e-41a8-b78c-b443c0727266', meta=None, notes=None, result_format=<ResultFormat.BASIC: 'BASIC'>, description=None, catch_exceptions=True, rendered_content=None, windows=None, batch_id=None, column='Month', mostly=1.0, row_condition=None, condition_parser=None)"
      ]
     },
     "execution_count": 102,
     "metadata": {},
     "output_type": "execute_result"
    }
   ],
   "source": [
    "suite.add_expectation(expectation4)"
   ]
  },
  {
   "cell_type": "code",
   "execution_count": 185,
   "id": "4d4adc19-9b92-46e6-bdf9-18a8cf1b50b6",
   "metadata": {},
   "outputs": [],
   "source": [
    "validation_results.append(validation_result)"
   ]
  },
  {
   "cell_type": "code",
   "execution_count": 186,
   "id": "17f12468-c8a8-4b98-9c82-36b84da7d1c9",
   "metadata": {},
   "outputs": [
    {
     "data": {
      "application/vnd.jupyter.widget-view+json": {
       "model_id": "e1f4a6bb84a644b3814bd16c2e2ecd94",
       "version_major": 2,
       "version_minor": 0
      },
      "text/plain": [
       "Calculating Metrics:   0%|          | 0/8 [00:00<?, ?it/s]"
      ]
     },
     "metadata": {},
     "output_type": "display_data"
    }
   ],
   "source": [
    "expectation5 = gx.expectations.ExpectColumnValuesToNotBeNull(\n",
    "    column=\"#Passengers\")\n",
    "validation_result = sample_batch.validate(expectation5)"
   ]
  },
  {
   "cell_type": "code",
   "execution_count": 104,
   "id": "3846341a-c255-44b2-8cb5-288e76daa00b",
   "metadata": {},
   "outputs": [
    {
     "data": {
      "text/plain": [
       "ExpectColumnValuesToNotBeNull(id='532deb5c-49c8-4a3a-b10e-80b87d78bd10', meta=None, notes=None, result_format=<ResultFormat.BASIC: 'BASIC'>, description=None, catch_exceptions=True, rendered_content=None, windows=None, batch_id=None, column='#Passengers', mostly=1.0, row_condition=None, condition_parser=None)"
      ]
     },
     "execution_count": 104,
     "metadata": {},
     "output_type": "execute_result"
    }
   ],
   "source": [
    "suite.add_expectation(expectation5)"
   ]
  },
  {
   "cell_type": "code",
   "execution_count": 187,
   "id": "4cec029d-6542-4cc5-95e4-367b40609052",
   "metadata": {},
   "outputs": [],
   "source": [
    "validation_results.append(validation_result)"
   ]
  },
  {
   "cell_type": "code",
   "execution_count": 188,
   "id": "b7a80642-7934-41d7-8cdd-4485e4f0c9cd",
   "metadata": {},
   "outputs": [],
   "source": [
    "data_for_df = [] #create a list to hold the data for the dataframe"
   ]
  },
  {
   "cell_type": "code",
   "execution_count": 189,
   "id": "00acca98-34a1-47e6-bf78-37a7e259a1d7",
   "metadata": {},
   "outputs": [],
   "source": [
    "for expectation in validation_results:\n",
    "    expectation_type = expectation['expectation_config']['type']\n",
    "    success = expectation['success']\n",
    "    column = expectation['expectation_config']['kwargs']['column']\n",
    "    data_for_df.append({\n",
    "        \"Expectation Type\": expectation_type,\n",
    "        \"Success\": success,\n",
    "        \"Column\": column\n",
    "    }) #take the values from each validation result to be included in the dataframe"
   ]
  },
  {
   "cell_type": "code",
   "execution_count": 190,
   "id": "45bb23dd-03a3-4b6f-a3fd-79f8721f64db",
   "metadata": {},
   "outputs": [],
   "source": [
    "df_results = pd.DataFrame(data_for_df) #create the dataframe with the previous values"
   ]
  },
  {
   "cell_type": "code",
   "execution_count": 191,
   "id": "6b9bd32d-e1b2-473e-b0ee-56d167c94033",
   "metadata": {},
   "outputs": [
    {
     "data": {
      "text/html": [
       "<div>\n",
       "<style scoped>\n",
       "    .dataframe tbody tr th:only-of-type {\n",
       "        vertical-align: middle;\n",
       "    }\n",
       "\n",
       "    .dataframe tbody tr th {\n",
       "        vertical-align: top;\n",
       "    }\n",
       "\n",
       "    .dataframe thead th {\n",
       "        text-align: right;\n",
       "    }\n",
       "</style>\n",
       "<table border=\"1\" class=\"dataframe\">\n",
       "  <thead>\n",
       "    <tr style=\"text-align: right;\">\n",
       "      <th></th>\n",
       "      <th>Expectation Type</th>\n",
       "      <th>Success</th>\n",
       "      <th>Column</th>\n",
       "    </tr>\n",
       "  </thead>\n",
       "  <tbody>\n",
       "    <tr>\n",
       "      <th>0</th>\n",
       "      <td>expect_column_max_to_be_between</td>\n",
       "      <td>False</td>\n",
       "      <td>#Passengers</td>\n",
       "    </tr>\n",
       "    <tr>\n",
       "      <th>1</th>\n",
       "      <td>expect_column_sum_to_be_between</td>\n",
       "      <td>True</td>\n",
       "      <td>#Passengers</td>\n",
       "    </tr>\n",
       "    <tr>\n",
       "      <th>2</th>\n",
       "      <td>expect_column_to_exist</td>\n",
       "      <td>True</td>\n",
       "      <td>Month</td>\n",
       "    </tr>\n",
       "    <tr>\n",
       "      <th>3</th>\n",
       "      <td>expect_column_values_to_be_unique</td>\n",
       "      <td>True</td>\n",
       "      <td>Month</td>\n",
       "    </tr>\n",
       "    <tr>\n",
       "      <th>4</th>\n",
       "      <td>expect_column_values_to_not_be_null</td>\n",
       "      <td>True</td>\n",
       "      <td>#Passengers</td>\n",
       "    </tr>\n",
       "  </tbody>\n",
       "</table>\n",
       "</div>"
      ],
      "text/plain": [
       "                      Expectation Type  Success       Column\n",
       "0      expect_column_max_to_be_between    False  #Passengers\n",
       "1      expect_column_sum_to_be_between     True  #Passengers\n",
       "2               expect_column_to_exist     True        Month\n",
       "3    expect_column_values_to_be_unique     True        Month\n",
       "4  expect_column_values_to_not_be_null     True  #Passengers"
      ]
     },
     "execution_count": 191,
     "metadata": {},
     "output_type": "execute_result"
    }
   ],
   "source": [
    "df_results #display the dataframe"
   ]
  },
  {
   "cell_type": "code",
   "execution_count": 193,
   "id": "45b85214-927a-4f21-9386-deb021d57d25",
   "metadata": {},
   "outputs": [],
   "source": [
    "df_results.to_csv('validation_results.csv', index=False) #saving the dataframe to my local as csv file"
   ]
  },
  {
   "cell_type": "code",
   "execution_count": null,
   "id": "8b335747-aa8f-4df2-ac9c-657545afc3f1",
   "metadata": {},
   "outputs": [],
   "source": []
  }
 ],
 "metadata": {
  "kernelspec": {
   "display_name": "Python 3 (ipykernel)",
   "language": "python",
   "name": "python3"
  },
  "language_info": {
   "codemirror_mode": {
    "name": "ipython",
    "version": 3
   },
   "file_extension": ".py",
   "mimetype": "text/x-python",
   "name": "python",
   "nbconvert_exporter": "python",
   "pygments_lexer": "ipython3",
   "version": "3.11.0"
  }
 },
 "nbformat": 4,
 "nbformat_minor": 5
}
